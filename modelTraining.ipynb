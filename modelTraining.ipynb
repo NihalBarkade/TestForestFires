{
 "cells": [
  {
   "cell_type": "code",
   "execution_count": 2,
   "metadata": {},
   "outputs": [],
   "source": [
    "import pandas as pd\n",
    "import numpy as np\n",
    "import matplotlib.pyplot as plt\n",
    "import seaborn as sns"
   ]
  },
  {
   "cell_type": "code",
   "execution_count": 3,
   "metadata": {},
   "outputs": [],
   "source": [
    "df = pd.read_csv(\"Algerian_forest_fires_cleaned.csv\")"
   ]
  },
  {
   "cell_type": "code",
   "execution_count": 4,
   "metadata": {},
   "outputs": [
    {
     "data": {
      "text/html": [
       "<div>\n",
       "<style scoped>\n",
       "    .dataframe tbody tr th:only-of-type {\n",
       "        vertical-align: middle;\n",
       "    }\n",
       "\n",
       "    .dataframe tbody tr th {\n",
       "        vertical-align: top;\n",
       "    }\n",
       "\n",
       "    .dataframe thead th {\n",
       "        text-align: right;\n",
       "    }\n",
       "</style>\n",
       "<table border=\"1\" class=\"dataframe\">\n",
       "  <thead>\n",
       "    <tr style=\"text-align: right;\">\n",
       "      <th></th>\n",
       "      <th>day</th>\n",
       "      <th>month</th>\n",
       "      <th>year</th>\n",
       "      <th>Temperature</th>\n",
       "      <th>RH</th>\n",
       "      <th>Ws</th>\n",
       "      <th>Rain</th>\n",
       "      <th>FFMC</th>\n",
       "      <th>DMC</th>\n",
       "      <th>DC</th>\n",
       "      <th>ISI</th>\n",
       "      <th>BUI</th>\n",
       "      <th>FWI</th>\n",
       "      <th>Classes</th>\n",
       "      <th>Region</th>\n",
       "    </tr>\n",
       "  </thead>\n",
       "  <tbody>\n",
       "    <tr>\n",
       "      <th>0</th>\n",
       "      <td>1</td>\n",
       "      <td>6</td>\n",
       "      <td>2012</td>\n",
       "      <td>29</td>\n",
       "      <td>57</td>\n",
       "      <td>18</td>\n",
       "      <td>0.0</td>\n",
       "      <td>65.7</td>\n",
       "      <td>3.4</td>\n",
       "      <td>7.6</td>\n",
       "      <td>1.3</td>\n",
       "      <td>3.4</td>\n",
       "      <td>0.5</td>\n",
       "      <td>not fire</td>\n",
       "      <td>0</td>\n",
       "    </tr>\n",
       "    <tr>\n",
       "      <th>1</th>\n",
       "      <td>2</td>\n",
       "      <td>6</td>\n",
       "      <td>2012</td>\n",
       "      <td>29</td>\n",
       "      <td>61</td>\n",
       "      <td>13</td>\n",
       "      <td>1.3</td>\n",
       "      <td>64.4</td>\n",
       "      <td>4.1</td>\n",
       "      <td>7.6</td>\n",
       "      <td>1.0</td>\n",
       "      <td>3.9</td>\n",
       "      <td>0.4</td>\n",
       "      <td>not fire</td>\n",
       "      <td>0</td>\n",
       "    </tr>\n",
       "    <tr>\n",
       "      <th>2</th>\n",
       "      <td>3</td>\n",
       "      <td>6</td>\n",
       "      <td>2012</td>\n",
       "      <td>26</td>\n",
       "      <td>82</td>\n",
       "      <td>22</td>\n",
       "      <td>13.1</td>\n",
       "      <td>47.1</td>\n",
       "      <td>2.5</td>\n",
       "      <td>7.1</td>\n",
       "      <td>0.3</td>\n",
       "      <td>2.7</td>\n",
       "      <td>0.1</td>\n",
       "      <td>not fire</td>\n",
       "      <td>0</td>\n",
       "    </tr>\n",
       "    <tr>\n",
       "      <th>3</th>\n",
       "      <td>4</td>\n",
       "      <td>6</td>\n",
       "      <td>2012</td>\n",
       "      <td>25</td>\n",
       "      <td>89</td>\n",
       "      <td>13</td>\n",
       "      <td>2.5</td>\n",
       "      <td>28.6</td>\n",
       "      <td>1.3</td>\n",
       "      <td>6.9</td>\n",
       "      <td>0.0</td>\n",
       "      <td>1.7</td>\n",
       "      <td>0.0</td>\n",
       "      <td>not fire</td>\n",
       "      <td>0</td>\n",
       "    </tr>\n",
       "    <tr>\n",
       "      <th>4</th>\n",
       "      <td>5</td>\n",
       "      <td>6</td>\n",
       "      <td>2012</td>\n",
       "      <td>27</td>\n",
       "      <td>77</td>\n",
       "      <td>16</td>\n",
       "      <td>0.0</td>\n",
       "      <td>64.8</td>\n",
       "      <td>3.0</td>\n",
       "      <td>14.2</td>\n",
       "      <td>1.2</td>\n",
       "      <td>3.9</td>\n",
       "      <td>0.5</td>\n",
       "      <td>not fire</td>\n",
       "      <td>0</td>\n",
       "    </tr>\n",
       "  </tbody>\n",
       "</table>\n",
       "</div>"
      ],
      "text/plain": [
       "   day  month  year  Temperature  RH  Ws  Rain  FFMC  DMC    DC  ISI  BUI  \\\n",
       "0    1      6  2012           29  57  18   0.0  65.7  3.4   7.6  1.3  3.4   \n",
       "1    2      6  2012           29  61  13   1.3  64.4  4.1   7.6  1.0  3.9   \n",
       "2    3      6  2012           26  82  22  13.1  47.1  2.5   7.1  0.3  2.7   \n",
       "3    4      6  2012           25  89  13   2.5  28.6  1.3   6.9  0.0  1.7   \n",
       "4    5      6  2012           27  77  16   0.0  64.8  3.0  14.2  1.2  3.9   \n",
       "\n",
       "   FWI      Classes  Region  \n",
       "0  0.5  not fire          0  \n",
       "1  0.4  not fire          0  \n",
       "2  0.1  not fire          0  \n",
       "3  0.0  not fire          0  \n",
       "4  0.5  not fire          0  "
      ]
     },
     "execution_count": 4,
     "metadata": {},
     "output_type": "execute_result"
    }
   ],
   "source": [
    "df.head()"
   ]
  },
  {
   "cell_type": "code",
   "execution_count": 5,
   "metadata": {},
   "outputs": [],
   "source": [
    "df.drop(columns=['day','month','year'], inplace=True)"
   ]
  },
  {
   "cell_type": "code",
   "execution_count": 6,
   "metadata": {},
   "outputs": [
    {
     "data": {
      "text/html": [
       "<div>\n",
       "<style scoped>\n",
       "    .dataframe tbody tr th:only-of-type {\n",
       "        vertical-align: middle;\n",
       "    }\n",
       "\n",
       "    .dataframe tbody tr th {\n",
       "        vertical-align: top;\n",
       "    }\n",
       "\n",
       "    .dataframe thead th {\n",
       "        text-align: right;\n",
       "    }\n",
       "</style>\n",
       "<table border=\"1\" class=\"dataframe\">\n",
       "  <thead>\n",
       "    <tr style=\"text-align: right;\">\n",
       "      <th></th>\n",
       "      <th>Temperature</th>\n",
       "      <th>RH</th>\n",
       "      <th>Ws</th>\n",
       "      <th>Rain</th>\n",
       "      <th>FFMC</th>\n",
       "      <th>DMC</th>\n",
       "      <th>DC</th>\n",
       "      <th>ISI</th>\n",
       "      <th>BUI</th>\n",
       "      <th>FWI</th>\n",
       "      <th>Classes</th>\n",
       "      <th>Region</th>\n",
       "    </tr>\n",
       "  </thead>\n",
       "  <tbody>\n",
       "    <tr>\n",
       "      <th>0</th>\n",
       "      <td>29</td>\n",
       "      <td>57</td>\n",
       "      <td>18</td>\n",
       "      <td>0.0</td>\n",
       "      <td>65.7</td>\n",
       "      <td>3.4</td>\n",
       "      <td>7.6</td>\n",
       "      <td>1.3</td>\n",
       "      <td>3.4</td>\n",
       "      <td>0.5</td>\n",
       "      <td>not fire</td>\n",
       "      <td>0</td>\n",
       "    </tr>\n",
       "    <tr>\n",
       "      <th>1</th>\n",
       "      <td>29</td>\n",
       "      <td>61</td>\n",
       "      <td>13</td>\n",
       "      <td>1.3</td>\n",
       "      <td>64.4</td>\n",
       "      <td>4.1</td>\n",
       "      <td>7.6</td>\n",
       "      <td>1.0</td>\n",
       "      <td>3.9</td>\n",
       "      <td>0.4</td>\n",
       "      <td>not fire</td>\n",
       "      <td>0</td>\n",
       "    </tr>\n",
       "    <tr>\n",
       "      <th>2</th>\n",
       "      <td>26</td>\n",
       "      <td>82</td>\n",
       "      <td>22</td>\n",
       "      <td>13.1</td>\n",
       "      <td>47.1</td>\n",
       "      <td>2.5</td>\n",
       "      <td>7.1</td>\n",
       "      <td>0.3</td>\n",
       "      <td>2.7</td>\n",
       "      <td>0.1</td>\n",
       "      <td>not fire</td>\n",
       "      <td>0</td>\n",
       "    </tr>\n",
       "    <tr>\n",
       "      <th>3</th>\n",
       "      <td>25</td>\n",
       "      <td>89</td>\n",
       "      <td>13</td>\n",
       "      <td>2.5</td>\n",
       "      <td>28.6</td>\n",
       "      <td>1.3</td>\n",
       "      <td>6.9</td>\n",
       "      <td>0.0</td>\n",
       "      <td>1.7</td>\n",
       "      <td>0.0</td>\n",
       "      <td>not fire</td>\n",
       "      <td>0</td>\n",
       "    </tr>\n",
       "    <tr>\n",
       "      <th>4</th>\n",
       "      <td>27</td>\n",
       "      <td>77</td>\n",
       "      <td>16</td>\n",
       "      <td>0.0</td>\n",
       "      <td>64.8</td>\n",
       "      <td>3.0</td>\n",
       "      <td>14.2</td>\n",
       "      <td>1.2</td>\n",
       "      <td>3.9</td>\n",
       "      <td>0.5</td>\n",
       "      <td>not fire</td>\n",
       "      <td>0</td>\n",
       "    </tr>\n",
       "  </tbody>\n",
       "</table>\n",
       "</div>"
      ],
      "text/plain": [
       "   Temperature  RH  Ws  Rain  FFMC  DMC    DC  ISI  BUI  FWI      Classes  \\\n",
       "0           29  57  18   0.0  65.7  3.4   7.6  1.3  3.4  0.5  not fire      \n",
       "1           29  61  13   1.3  64.4  4.1   7.6  1.0  3.9  0.4  not fire      \n",
       "2           26  82  22  13.1  47.1  2.5   7.1  0.3  2.7  0.1  not fire      \n",
       "3           25  89  13   2.5  28.6  1.3   6.9  0.0  1.7  0.0  not fire      \n",
       "4           27  77  16   0.0  64.8  3.0  14.2  1.2  3.9  0.5  not fire      \n",
       "\n",
       "   Region  \n",
       "0       0  \n",
       "1       0  \n",
       "2       0  \n",
       "3       0  \n",
       "4       0  "
      ]
     },
     "execution_count": 6,
     "metadata": {},
     "output_type": "execute_result"
    }
   ],
   "source": [
    "df.head()"
   ]
  },
  {
   "cell_type": "code",
   "execution_count": 7,
   "metadata": {},
   "outputs": [
    {
     "data": {
      "text/plain": [
       "Classes\n",
       "fire             131\n",
       "not fire         101\n",
       "fire               4\n",
       "fire               2\n",
       "not fire           2\n",
       "not fire           1\n",
       "not fire           1\n",
       "not fire           1\n",
       "Name: count, dtype: int64"
      ]
     },
     "execution_count": 7,
     "metadata": {},
     "output_type": "execute_result"
    }
   ],
   "source": [
    "df[\"Classes\"].value_counts()"
   ]
  },
  {
   "cell_type": "code",
   "execution_count": 8,
   "metadata": {},
   "outputs": [],
   "source": [
    "df[\"Classes\"] = np.where(df[\"Classes\"].str.contains(\"not fire\"), \"not fire\", \"fire\")"
   ]
  },
  {
   "cell_type": "code",
   "execution_count": 9,
   "metadata": {},
   "outputs": [
    {
     "data": {
      "text/plain": [
       "Classes\n",
       "fire        137\n",
       "not fire    106\n",
       "Name: count, dtype: int64"
      ]
     },
     "execution_count": 9,
     "metadata": {},
     "output_type": "execute_result"
    }
   ],
   "source": [
    "df[\"Classes\"].value_counts()"
   ]
  },
  {
   "cell_type": "code",
   "execution_count": 10,
   "metadata": {},
   "outputs": [],
   "source": [
    "df[\"Classes\"] = np.where(df[\"Classes\"].str.contains(\"not fire\"), 0, 1)"
   ]
  },
  {
   "cell_type": "code",
   "execution_count": 11,
   "metadata": {},
   "outputs": [
    {
     "data": {
      "text/plain": [
       "Classes\n",
       "1    137\n",
       "0    106\n",
       "Name: count, dtype: int64"
      ]
     },
     "execution_count": 11,
     "metadata": {},
     "output_type": "execute_result"
    }
   ],
   "source": [
    "df[\"Classes\"].value_counts()"
   ]
  },
  {
   "cell_type": "code",
   "execution_count": 12,
   "metadata": {},
   "outputs": [],
   "source": [
    "## independent and dependent features\n",
    "X = df.drop(\"FWI\", axis=1)\n",
    "y = df[\"FWI\"]"
   ]
  },
  {
   "cell_type": "code",
   "execution_count": 13,
   "metadata": {},
   "outputs": [
    {
     "data": {
      "text/html": [
       "<div>\n",
       "<style scoped>\n",
       "    .dataframe tbody tr th:only-of-type {\n",
       "        vertical-align: middle;\n",
       "    }\n",
       "\n",
       "    .dataframe tbody tr th {\n",
       "        vertical-align: top;\n",
       "    }\n",
       "\n",
       "    .dataframe thead th {\n",
       "        text-align: right;\n",
       "    }\n",
       "</style>\n",
       "<table border=\"1\" class=\"dataframe\">\n",
       "  <thead>\n",
       "    <tr style=\"text-align: right;\">\n",
       "      <th></th>\n",
       "      <th>Temperature</th>\n",
       "      <th>RH</th>\n",
       "      <th>Ws</th>\n",
       "      <th>Rain</th>\n",
       "      <th>FFMC</th>\n",
       "      <th>DMC</th>\n",
       "      <th>DC</th>\n",
       "      <th>ISI</th>\n",
       "      <th>BUI</th>\n",
       "      <th>Classes</th>\n",
       "      <th>Region</th>\n",
       "    </tr>\n",
       "  </thead>\n",
       "  <tbody>\n",
       "    <tr>\n",
       "      <th>0</th>\n",
       "      <td>29</td>\n",
       "      <td>57</td>\n",
       "      <td>18</td>\n",
       "      <td>0.0</td>\n",
       "      <td>65.7</td>\n",
       "      <td>3.4</td>\n",
       "      <td>7.6</td>\n",
       "      <td>1.3</td>\n",
       "      <td>3.4</td>\n",
       "      <td>0</td>\n",
       "      <td>0</td>\n",
       "    </tr>\n",
       "    <tr>\n",
       "      <th>1</th>\n",
       "      <td>29</td>\n",
       "      <td>61</td>\n",
       "      <td>13</td>\n",
       "      <td>1.3</td>\n",
       "      <td>64.4</td>\n",
       "      <td>4.1</td>\n",
       "      <td>7.6</td>\n",
       "      <td>1.0</td>\n",
       "      <td>3.9</td>\n",
       "      <td>0</td>\n",
       "      <td>0</td>\n",
       "    </tr>\n",
       "    <tr>\n",
       "      <th>2</th>\n",
       "      <td>26</td>\n",
       "      <td>82</td>\n",
       "      <td>22</td>\n",
       "      <td>13.1</td>\n",
       "      <td>47.1</td>\n",
       "      <td>2.5</td>\n",
       "      <td>7.1</td>\n",
       "      <td>0.3</td>\n",
       "      <td>2.7</td>\n",
       "      <td>0</td>\n",
       "      <td>0</td>\n",
       "    </tr>\n",
       "    <tr>\n",
       "      <th>3</th>\n",
       "      <td>25</td>\n",
       "      <td>89</td>\n",
       "      <td>13</td>\n",
       "      <td>2.5</td>\n",
       "      <td>28.6</td>\n",
       "      <td>1.3</td>\n",
       "      <td>6.9</td>\n",
       "      <td>0.0</td>\n",
       "      <td>1.7</td>\n",
       "      <td>0</td>\n",
       "      <td>0</td>\n",
       "    </tr>\n",
       "    <tr>\n",
       "      <th>4</th>\n",
       "      <td>27</td>\n",
       "      <td>77</td>\n",
       "      <td>16</td>\n",
       "      <td>0.0</td>\n",
       "      <td>64.8</td>\n",
       "      <td>3.0</td>\n",
       "      <td>14.2</td>\n",
       "      <td>1.2</td>\n",
       "      <td>3.9</td>\n",
       "      <td>0</td>\n",
       "      <td>0</td>\n",
       "    </tr>\n",
       "  </tbody>\n",
       "</table>\n",
       "</div>"
      ],
      "text/plain": [
       "   Temperature  RH  Ws  Rain  FFMC  DMC    DC  ISI  BUI  Classes  Region\n",
       "0           29  57  18   0.0  65.7  3.4   7.6  1.3  3.4        0       0\n",
       "1           29  61  13   1.3  64.4  4.1   7.6  1.0  3.9        0       0\n",
       "2           26  82  22  13.1  47.1  2.5   7.1  0.3  2.7        0       0\n",
       "3           25  89  13   2.5  28.6  1.3   6.9  0.0  1.7        0       0\n",
       "4           27  77  16   0.0  64.8  3.0  14.2  1.2  3.9        0       0"
      ]
     },
     "execution_count": 13,
     "metadata": {},
     "output_type": "execute_result"
    }
   ],
   "source": [
    "X.head()"
   ]
  },
  {
   "cell_type": "code",
   "execution_count": 14,
   "metadata": {},
   "outputs": [
    {
     "data": {
      "text/plain": [
       "0    0.5\n",
       "1    0.4\n",
       "2    0.1\n",
       "3    0.0\n",
       "4    0.5\n",
       "Name: FWI, dtype: float64"
      ]
     },
     "execution_count": 14,
     "metadata": {},
     "output_type": "execute_result"
    }
   ],
   "source": [
    "y.head()"
   ]
  },
  {
   "cell_type": "code",
   "execution_count": 15,
   "metadata": {},
   "outputs": [],
   "source": [
    "from sklearn.model_selection import train_test_split\n",
    "X_train, X_test, y_train, y_test = train_test_split(X, y, test_size=.25, random_state=10)"
   ]
  },
  {
   "cell_type": "code",
   "execution_count": 16,
   "metadata": {},
   "outputs": [
    {
     "data": {
      "text/plain": [
       "((182, 11), (61, 11))"
      ]
     },
     "execution_count": 16,
     "metadata": {},
     "output_type": "execute_result"
    }
   ],
   "source": [
    "X_train.shape, X_test.shape"
   ]
  },
  {
   "cell_type": "code",
   "execution_count": 17,
   "metadata": {},
   "outputs": [
    {
     "data": {
      "text/html": [
       "<div>\n",
       "<style scoped>\n",
       "    .dataframe tbody tr th:only-of-type {\n",
       "        vertical-align: middle;\n",
       "    }\n",
       "\n",
       "    .dataframe tbody tr th {\n",
       "        vertical-align: top;\n",
       "    }\n",
       "\n",
       "    .dataframe thead th {\n",
       "        text-align: right;\n",
       "    }\n",
       "</style>\n",
       "<table border=\"1\" class=\"dataframe\">\n",
       "  <thead>\n",
       "    <tr style=\"text-align: right;\">\n",
       "      <th></th>\n",
       "      <th>Temperature</th>\n",
       "      <th>RH</th>\n",
       "      <th>Ws</th>\n",
       "      <th>Rain</th>\n",
       "      <th>FFMC</th>\n",
       "      <th>DMC</th>\n",
       "      <th>DC</th>\n",
       "      <th>ISI</th>\n",
       "      <th>BUI</th>\n",
       "      <th>Classes</th>\n",
       "      <th>Region</th>\n",
       "    </tr>\n",
       "  </thead>\n",
       "  <tbody>\n",
       "    <tr>\n",
       "      <th>Temperature</th>\n",
       "      <td>1.000000</td>\n",
       "      <td>-0.669720</td>\n",
       "      <td>-0.334140</td>\n",
       "      <td>-0.353265</td>\n",
       "      <td>0.677623</td>\n",
       "      <td>0.487571</td>\n",
       "      <td>0.389471</td>\n",
       "      <td>0.602026</td>\n",
       "      <td>0.467013</td>\n",
       "      <td>0.546279</td>\n",
       "      <td>0.283242</td>\n",
       "    </tr>\n",
       "    <tr>\n",
       "      <th>RH</th>\n",
       "      <td>-0.669720</td>\n",
       "      <td>1.000000</td>\n",
       "      <td>0.204591</td>\n",
       "      <td>0.222707</td>\n",
       "      <td>-0.649486</td>\n",
       "      <td>-0.428679</td>\n",
       "      <td>-0.266198</td>\n",
       "      <td>-0.707446</td>\n",
       "      <td>-0.383706</td>\n",
       "      <td>-0.463607</td>\n",
       "      <td>-0.401123</td>\n",
       "    </tr>\n",
       "    <tr>\n",
       "      <th>Ws</th>\n",
       "      <td>-0.334140</td>\n",
       "      <td>0.204591</td>\n",
       "      <td>1.000000</td>\n",
       "      <td>0.128902</td>\n",
       "      <td>-0.174288</td>\n",
       "      <td>-0.006788</td>\n",
       "      <td>0.058934</td>\n",
       "      <td>0.004938</td>\n",
       "      <td>0.020047</td>\n",
       "      <td>-0.098821</td>\n",
       "      <td>-0.181108</td>\n",
       "    </tr>\n",
       "    <tr>\n",
       "      <th>Rain</th>\n",
       "      <td>-0.353265</td>\n",
       "      <td>0.222707</td>\n",
       "      <td>0.128902</td>\n",
       "      <td>1.000000</td>\n",
       "      <td>-0.566291</td>\n",
       "      <td>-0.319280</td>\n",
       "      <td>-0.312623</td>\n",
       "      <td>-0.364699</td>\n",
       "      <td>-0.327179</td>\n",
       "      <td>-0.386251</td>\n",
       "      <td>-0.035181</td>\n",
       "    </tr>\n",
       "    <tr>\n",
       "      <th>FFMC</th>\n",
       "      <td>0.677623</td>\n",
       "      <td>-0.649486</td>\n",
       "      <td>-0.174288</td>\n",
       "      <td>-0.566291</td>\n",
       "      <td>1.000000</td>\n",
       "      <td>0.608838</td>\n",
       "      <td>0.520211</td>\n",
       "      <td>0.743021</td>\n",
       "      <td>0.600643</td>\n",
       "      <td>0.774048</td>\n",
       "      <td>0.248338</td>\n",
       "    </tr>\n",
       "    <tr>\n",
       "      <th>DMC</th>\n",
       "      <td>0.487571</td>\n",
       "      <td>-0.428679</td>\n",
       "      <td>-0.006788</td>\n",
       "      <td>-0.319280</td>\n",
       "      <td>0.608838</td>\n",
       "      <td>1.000000</td>\n",
       "      <td>0.885047</td>\n",
       "      <td>0.690427</td>\n",
       "      <td>0.983489</td>\n",
       "      <td>0.591989</td>\n",
       "      <td>0.193025</td>\n",
       "    </tr>\n",
       "    <tr>\n",
       "      <th>DC</th>\n",
       "      <td>0.389471</td>\n",
       "      <td>-0.266198</td>\n",
       "      <td>0.058934</td>\n",
       "      <td>-0.312623</td>\n",
       "      <td>0.520211</td>\n",
       "      <td>0.885047</td>\n",
       "      <td>1.000000</td>\n",
       "      <td>0.536126</td>\n",
       "      <td>0.944205</td>\n",
       "      <td>0.500287</td>\n",
       "      <td>-0.063488</td>\n",
       "    </tr>\n",
       "    <tr>\n",
       "      <th>ISI</th>\n",
       "      <td>0.602026</td>\n",
       "      <td>-0.707446</td>\n",
       "      <td>0.004938</td>\n",
       "      <td>-0.364699</td>\n",
       "      <td>0.743021</td>\n",
       "      <td>0.690427</td>\n",
       "      <td>0.536126</td>\n",
       "      <td>1.000000</td>\n",
       "      <td>0.664122</td>\n",
       "      <td>0.752023</td>\n",
       "      <td>0.280281</td>\n",
       "    </tr>\n",
       "    <tr>\n",
       "      <th>BUI</th>\n",
       "      <td>0.467013</td>\n",
       "      <td>-0.383706</td>\n",
       "      <td>0.020047</td>\n",
       "      <td>-0.327179</td>\n",
       "      <td>0.600643</td>\n",
       "      <td>0.983489</td>\n",
       "      <td>0.944205</td>\n",
       "      <td>0.664122</td>\n",
       "      <td>1.000000</td>\n",
       "      <td>0.589880</td>\n",
       "      <td>0.096093</td>\n",
       "    </tr>\n",
       "    <tr>\n",
       "      <th>Classes</th>\n",
       "      <td>0.546279</td>\n",
       "      <td>-0.463607</td>\n",
       "      <td>-0.098821</td>\n",
       "      <td>-0.386251</td>\n",
       "      <td>0.774048</td>\n",
       "      <td>0.591989</td>\n",
       "      <td>0.500287</td>\n",
       "      <td>0.752023</td>\n",
       "      <td>0.589880</td>\n",
       "      <td>1.000000</td>\n",
       "      <td>0.231666</td>\n",
       "    </tr>\n",
       "    <tr>\n",
       "      <th>Region</th>\n",
       "      <td>0.283242</td>\n",
       "      <td>-0.401123</td>\n",
       "      <td>-0.181108</td>\n",
       "      <td>-0.035181</td>\n",
       "      <td>0.248338</td>\n",
       "      <td>0.193025</td>\n",
       "      <td>-0.063488</td>\n",
       "      <td>0.280281</td>\n",
       "      <td>0.096093</td>\n",
       "      <td>0.231666</td>\n",
       "      <td>1.000000</td>\n",
       "    </tr>\n",
       "  </tbody>\n",
       "</table>\n",
       "</div>"
      ],
      "text/plain": [
       "             Temperature        RH        Ws      Rain      FFMC       DMC  \\\n",
       "Temperature     1.000000 -0.669720 -0.334140 -0.353265  0.677623  0.487571   \n",
       "RH             -0.669720  1.000000  0.204591  0.222707 -0.649486 -0.428679   \n",
       "Ws             -0.334140  0.204591  1.000000  0.128902 -0.174288 -0.006788   \n",
       "Rain           -0.353265  0.222707  0.128902  1.000000 -0.566291 -0.319280   \n",
       "FFMC            0.677623 -0.649486 -0.174288 -0.566291  1.000000  0.608838   \n",
       "DMC             0.487571 -0.428679 -0.006788 -0.319280  0.608838  1.000000   \n",
       "DC              0.389471 -0.266198  0.058934 -0.312623  0.520211  0.885047   \n",
       "ISI             0.602026 -0.707446  0.004938 -0.364699  0.743021  0.690427   \n",
       "BUI             0.467013 -0.383706  0.020047 -0.327179  0.600643  0.983489   \n",
       "Classes         0.546279 -0.463607 -0.098821 -0.386251  0.774048  0.591989   \n",
       "Region          0.283242 -0.401123 -0.181108 -0.035181  0.248338  0.193025   \n",
       "\n",
       "                   DC       ISI       BUI   Classes    Region  \n",
       "Temperature  0.389471  0.602026  0.467013  0.546279  0.283242  \n",
       "RH          -0.266198 -0.707446 -0.383706 -0.463607 -0.401123  \n",
       "Ws           0.058934  0.004938  0.020047 -0.098821 -0.181108  \n",
       "Rain        -0.312623 -0.364699 -0.327179 -0.386251 -0.035181  \n",
       "FFMC         0.520211  0.743021  0.600643  0.774048  0.248338  \n",
       "DMC          0.885047  0.690427  0.983489  0.591989  0.193025  \n",
       "DC           1.000000  0.536126  0.944205  0.500287 -0.063488  \n",
       "ISI          0.536126  1.000000  0.664122  0.752023  0.280281  \n",
       "BUI          0.944205  0.664122  1.000000  0.589880  0.096093  \n",
       "Classes      0.500287  0.752023  0.589880  1.000000  0.231666  \n",
       "Region      -0.063488  0.280281  0.096093  0.231666  1.000000  "
      ]
     },
     "execution_count": 17,
     "metadata": {},
     "output_type": "execute_result"
    }
   ],
   "source": [
    "## ferature selection based on correlation\n",
    "X_train.corr()"
   ]
  },
  {
   "cell_type": "code",
   "execution_count": 18,
   "metadata": {},
   "outputs": [
    {
     "data": {
      "text/plain": [
       "<Axes: >"
      ]
     },
     "execution_count": 18,
     "metadata": {},
     "output_type": "execute_result"
    },
    {
     "data": {
      "image/png": "[encoded data removed]",
      "text/plain": [
       "<Figure size 1200x700 with 2 Axes>"
      ]
     },
     "metadata": {},
     "output_type": "display_data"
    }
   ],
   "source": [
    "plt.figure(figsize=(12,7))\n",
    "sns.heatmap(X_train.corr(), annot=True)"
   ]
  },
  {
   "cell_type": "code",
   "execution_count": 19,
   "metadata": {},
   "outputs": [],
   "source": [
    "def correlation(dataset, threshold):\n",
    "    col_corr = set()\n",
    "    corr_matrix = dataset.corr()\n",
    "    for i in range(len(corr_matrix.columns)):\n",
    "        for j in range(i):\n",
    "            if abs(corr_matrix.iloc[i, j]) > threshold:\n",
    "                colname = corr_matrix.columns[i]\n",
    "                col_corr.add(colname)\n",
    "    return col_corr"
   ]
  },
  {
   "cell_type": "code",
   "execution_count": 20,
   "metadata": {},
   "outputs": [],
   "source": [
    "## set the threshold by domain expertise \n",
    "corr_features=correlation(X_train, .85)"
   ]
  },
  {
   "cell_type": "code",
   "execution_count": 21,
   "metadata": {},
   "outputs": [],
   "source": [
    "## remove these highly correlated features\n",
    "X_train.drop(corr_features, axis=1, inplace=True)"
   ]
  },
  {
   "cell_type": "code",
   "execution_count": 22,
   "metadata": {},
   "outputs": [],
   "source": [
    "X_test.drop(corr_features, axis=1, inplace=True)"
   ]
  },
  {
   "cell_type": "code",
   "execution_count": 23,
   "metadata": {},
   "outputs": [
    {
     "data": {
      "text/plain": [
       "((182, 9), (61, 9))"
      ]
     },
     "execution_count": 23,
     "metadata": {},
     "output_type": "execute_result"
    }
   ],
   "source": [
    "X_train.shape, X_test.shape"
   ]
  },
  {
   "cell_type": "code",
   "execution_count": 24,
   "metadata": {},
   "outputs": [],
   "source": [
    "## Feature Scaling or Standardization\n",
    "from sklearn.preprocessing import StandardScaler\n",
    "scaler = StandardScaler()\n",
    "X_train_scaled = scaler.fit_transform(X_train)\n",
    "X_test_scaled = scaler.transform(X_test)"
   ]
  },
  {
   "cell_type": "code",
   "execution_count": 25,
   "metadata": {},
   "outputs": [
    {
     "data": {
      "text/plain": [
       "array([[-0.82246204, -0.13248758, -0.96126494, ..., -0.8800242 ,\n",
       "        -1.0921406 , -1.        ],\n",
       "       [-1.64946806,  1.26631775,  2.29867702, ..., -1.04641643,\n",
       "        -1.0921406 , -1.        ],\n",
       "       [ 1.38288736, -1.73112224, -0.96126494, ...,  1.66339986,\n",
       "         0.91563303,  1.        ],\n",
       "       ...,\n",
       "       [ 0.28021266, -2.46382979, -0.96126494, ...,  2.25765782,\n",
       "         0.91563303,  1.        ],\n",
       "       [-0.54679336,  0.06734175, -0.59904916, ..., -0.59478038,\n",
       "        -1.0921406 ,  1.        ],\n",
       "       [-1.09813071,  1.06648841, -1.32348071, ..., -0.80871325,\n",
       "        -1.0921406 , -1.        ]])"
      ]
     },
     "execution_count": 25,
     "metadata": {},
     "output_type": "execute_result"
    }
   ],
   "source": [
    "X_train_scaled"
   ]
  },
  {
   "cell_type": "code",
   "execution_count": 26,
   "metadata": {},
   "outputs": [
    {
     "data": {
      "text/plain": [
       "Text(0.5, 1.0, 'X train after Scaling')"
      ]
     },
     "execution_count": 26,
     "metadata": {},
     "output_type": "execute_result"
    },
    {
     "data": {
      "image/png": "[encoded data removed]",
      "text/plain": [
       "<Figure size 1500x500 with 3 Axes>"
      ]
     },
     "metadata": {},
     "output_type": "display_data"
    }
   ],
   "source": [
    "## box plot to understand the effects of standard scaler\n",
    "plt.subplots(figsize=(15,5))\n",
    "plt.subplot(1,2,1)\n",
    "sns.boxplot(data=X_train)\n",
    "plt.title(\"X train before Scaling\")\n",
    "plt.subplot(1,2,2)\n",
    "sns.boxplot(data=X_train_scaled)\n",
    "plt.title(\"X train after Scaling\")"
   ]
  },
  {
   "cell_type": "markdown",
   "metadata": {},
   "source": [
    "## Linear Regression"
   ]
  },
  {
   "cell_type": "code",
   "execution_count": 27,
   "metadata": {},
   "outputs": [
    {
     "name": "stdout",
     "output_type": "stream",
     "text": [
      "Mean Absolute Error:  0.6097576371929305\n",
      "R2 Score:  0.9845036003441805\n"
     ]
    }
   ],
   "source": [
    "from sklearn.linear_model import LinearRegression\n",
    "from sklearn.metrics import mean_absolute_error, r2_score\n",
    "linreg = LinearRegression()\n",
    "linreg.fit(X_train_scaled, y_train)\n",
    "y_pred = linreg.predict(X_test_scaled)\n",
    "mae = mean_absolute_error(y_test, y_pred)\n",
    "score = r2_score(y_test, y_pred)\n",
    "print(\"Mean Absolute Error: \", mae)\n",
    "print(\"R2 Score: \", score)"
   ]
  },
  {
   "cell_type": "code",
   "execution_count": 28,
   "metadata": {},
   "outputs": [
    {
     "data": {
      "text/plain": [
       "<matplotlib.collections.PathCollection at 0x1984ef69550>"
      ]
     },
     "execution_count": 28,
     "metadata": {},
     "output_type": "execute_result"
    },
    {
     "data": {
      "image/png": "[encoded data removed]",
      "text/plain": [
       "<Figure size 640x480 with 1 Axes>"
      ]
     },
     "metadata": {},
     "output_type": "display_data"
    }
   ],
   "source": [
    "plt.scatter(y_test, y_pred)"
   ]
  },
  {
   "cell_type": "code",
   "execution_count": 29,
   "metadata": {},
   "outputs": [
    {
     "name": "stdout",
     "output_type": "stream",
     "text": [
      "Mean Absolute Error:  0.6045787458662935\n",
      "R2 Score:  0.9849363575693157\n"
     ]
    }
   ],
   "source": [
    "from sklearn.linear_model import LassoCV\n",
    "lassocv = LassoCV(cv=5)\n",
    "lassocv.fit(X_train_scaled,y_train)\n",
    "y_pred = lassocv.predict(X_test_scaled)\n",
    "mae = mean_absolute_error(y_test, y_pred)\n",
    "score = r2_score(y_test, y_pred)\n",
    "print(\"Mean Absolute Error: \", mae)\n",
    "print(\"R2 Score: \", score)"
   ]
  },
  {
   "cell_type": "code",
   "execution_count": 30,
   "metadata": {},
   "outputs": [
    {
     "data": {
      "text/plain": [
       "np.float64(0.03023939599481777)"
      ]
     },
     "execution_count": 30,
     "metadata": {},
     "output_type": "execute_result"
    }
   ],
   "source": [
    "lassocv.alpha_"
   ]
  },
  {
   "cell_type": "code",
   "execution_count": 31,
   "metadata": {},
   "outputs": [
    {
     "data": {
      "text/plain": [
       "array([6.98569268, 6.51488037, 6.07579924, 5.66631071, 5.28442033,\n",
       "       4.92826809, 4.59611931, 4.28635625, 3.99747019, 3.72805408,\n",
       "       3.47679571, 3.24247131, 3.0239396 , 2.82013619, 2.63006845,\n",
       "       2.45281064, 2.28749941, 2.13332961, 1.98955033, 1.8554613 ,\n",
       "       1.73040942, 1.61378561, 1.50502186, 1.40358843, 1.30899127,\n",
       "       1.22076964, 1.13849385, 1.06176317, 0.99020389, 0.92346746,\n",
       "       0.86122884, 0.8031849 , 0.74905293, 0.69856927, 0.65148804,\n",
       "       0.60757992, 0.56663107, 0.52844203, 0.49282681, 0.45961193,\n",
       "       0.42863563, 0.39974702, 0.37280541, 0.34767957, 0.32424713,\n",
       "       0.30239396, 0.28201362, 0.26300685, 0.24528106, 0.22874994,\n",
       "       0.21333296, 0.19895503, 0.18554613, 0.17304094, 0.16137856,\n",
       "       0.15050219, 0.14035884, 0.13089913, 0.12207696, 0.11384938,\n",
       "       0.10617632, 0.09902039, 0.09234675, 0.08612288, 0.08031849,\n",
       "       0.07490529, 0.06985693, 0.0651488 , 0.06075799, 0.05666311,\n",
       "       0.0528442 , 0.04928268, 0.04596119, 0.04286356, 0.0399747 ,\n",
       "       0.03728054, 0.03476796, 0.03242471, 0.0302394 , 0.02820136,\n",
       "       0.02630068, 0.02452811, 0.02287499, 0.0213333 , 0.0198955 ,\n",
       "       0.01855461, 0.01730409, 0.01613786, 0.01505022, 0.01403588,\n",
       "       0.01308991, 0.0122077 , 0.01138494, 0.01061763, 0.00990204,\n",
       "       0.00923467, 0.00861229, 0.00803185, 0.00749053, 0.00698569])"
      ]
     },
     "execution_count": 31,
     "metadata": {},
     "output_type": "execute_result"
    }
   ],
   "source": [
    "lassocv.alphas_"
   ]
  },
  {
   "cell_type": "code",
   "execution_count": 32,
   "metadata": {},
   "outputs": [
    {
     "data": {
      "text/plain": [
       "array([[86.6492239 , 51.30631046, 38.1987913 , 47.115098  , 59.76108479],\n",
       "       [86.6492239 , 47.83826474, 34.43213058, 41.58721442, 54.03326784],\n",
       "       [79.3145338 , 44.781746  , 30.53432675, 36.53077488, 47.6167367 ],\n",
       "       [72.40284119, 41.96153571, 26.96704393, 31.86678817, 41.78910288],\n",
       "       [66.2778524 , 36.89941043, 23.84799024, 27.86327098, 36.70598071],\n",
       "       [60.84475143, 32.48349568, 21.12027568, 24.43053141, 32.27128782],\n",
       "       [56.02055639, 28.63071376, 18.73376093, 21.49068409, 28.40132716],\n",
       "       [51.73261281, 25.26852787, 16.64495378, 18.97685928, 25.0237187 ],\n",
       "       [47.91728097, 22.33408603, 14.81596299, 16.83046442, 22.07497312],\n",
       "       [43.3680861 , 19.77179966, 13.21355702, 15.00094527, 19.49997689],\n",
       "       [37.91161906, 17.53414214, 11.80942224, 13.44424462, 17.25074483],\n",
       "       [33.16223453, 15.57944449, 10.57823911, 12.12301455, 15.28533576],\n",
       "       [29.02781811, 13.87142361,  9.49815015, 11.00413658, 13.5677077 ],\n",
       "       [25.42747435, 12.37877977,  8.55009988, 10.05921436, 12.06598984],\n",
       "       [22.2939512 , 11.07336957,  7.71747269,  9.26368802, 10.75258608],\n",
       "       [19.56561801,  9.93156189,  6.98577793,  8.59632478,  9.60345938],\n",
       "       [17.18989613,  8.93248095,  6.34217579,  8.03850051,  8.59767046],\n",
       "       [15.12104337,  8.05794048,  5.77606056,  7.57494826,  7.71697652],\n",
       "       [13.31926301,  7.29209576,  5.27758484,  7.19168461,  6.94537297],\n",
       "       [11.74993019,  6.62114048,  4.83834916,  6.8769094 ,  6.26924367],\n",
       "       [10.38291911,  6.03304291,  4.4510207 ,  6.62045052,  5.67638707],\n",
       "       [ 9.1920177 ,  5.51752907,  4.10919596,  6.41354513,  5.15627971],\n",
       "       [ 8.15377492,  5.06500879,  3.80728138,  6.24865043,  4.69974724],\n",
       "       [ 7.2497174 ,  4.66775057,  3.54038952,  6.11901005,  4.29879   ],\n",
       "       [ 6.46183859,  4.31880491,  3.30424857,  6.01961211,  3.94643134],\n",
       "       [ 5.77511036,  4.01211029,  3.09496772,  5.94537927,  3.63658564],\n",
       "       [ 5.17645692,  3.74237909,  2.90960745,  5.89220915,  3.36394351],\n",
       "       [ 4.65449891,  3.5049979 ,  2.74513717,  5.85659039,  3.12383336],\n",
       "       [ 4.19933294,  3.29612263,  2.59905464,  5.83552077,  2.91229661],\n",
       "       [ 3.80233971,  3.11185661,  2.46916934,  5.82643736,  2.7257542 ],\n",
       "       [ 3.45601718,  2.94933307,  2.35356233,  5.82715608,  2.56112288],\n",
       "       [ 3.15383541,  2.80587304,  2.25055173,  5.83581928,  2.41570953],\n",
       "       [ 2.88977881,  2.6791354 ,  2.15866273,  5.85061727,  2.28716097],\n",
       "       [ 2.65960635,  2.56707434,  2.07660147,  5.87069876,  2.17342044],\n",
       "       [ 2.45863098,  2.46790166,  2.00323215,  5.89468735,  2.07268961],\n",
       "       [ 2.28310033,  2.38005371,  1.93743585,  5.92163267,  1.98339563],\n",
       "       [ 2.12974954,  2.30231148,  1.87858868,  5.95073973,  1.90416228],\n",
       "       [ 1.99573571,  2.23316772,  1.82578824,  5.98134472,  1.83379826],\n",
       "       [ 1.87858312,  2.17173648,  1.77835505,  6.01289607,  1.77122485],\n",
       "       [ 1.77613562,  2.11710165,  1.73569178,  6.04493807,  1.71552781],\n",
       "       [ 1.69181472,  2.06845922,  1.69727206,  6.07709676,  1.66589746],\n",
       "       [ 1.62011612,  2.02510441,  1.66263168,  6.10885065,  1.62162366],\n",
       "       [ 1.55751854,  1.98641916,  1.63136092,  6.14040145,  1.58208338],\n",
       "       [ 1.50292607,  1.95186111,  1.60309789,  6.17132708,  1.54672971],\n",
       "       [ 1.4553073 ,  1.9206504 ,  1.57752262,  6.2014708 ,  1.51378975],\n",
       "       [ 1.40564739,  1.88239184,  1.55424574,  6.23071563,  1.47464408],\n",
       "       [ 1.36025242,  1.84863407,  1.53323567,  6.25897462,  1.44043862],\n",
       "       [ 1.32001129,  1.81891145,  1.51262067,  6.28618588,  1.41061539],\n",
       "       [ 1.28424204,  1.79272363,  1.46791527,  6.29905285,  1.38639109],\n",
       "       [ 1.25241424,  1.76963288,  1.42792408,  6.29814684,  1.36546674],\n",
       "       [ 1.22406291,  1.74925698,  1.39209122,  6.30094718,  1.34762737],\n",
       "       [ 1.19929801,  1.73119777,  1.35994296,  6.30590557,  1.33225919],\n",
       "       [ 1.17784648,  1.7156278 ,  1.33082902,  6.31243877,  1.31902441],\n",
       "       [ 1.15892815,  1.7023015 ,  1.30154331,  6.3251974 ,  1.30650462],\n",
       "       [ 1.13868299,  1.68535273,  1.27338465,  6.3420012 ,  1.2957106 ],\n",
       "       [ 1.10726133,  1.66614839,  1.24713459,  6.36146455,  1.28008108],\n",
       "       [ 1.07369312,  1.63386107,  1.22353036,  6.38343503,  1.26398209],\n",
       "       [ 1.04460604,  1.60326944,  1.20228582,  6.40700427,  1.25004622],\n",
       "       [ 1.01914201,  1.57563311,  1.17471717,  6.43166369,  1.23529015],\n",
       "       [ 0.99733752,  1.55039038,  1.13004516,  6.45699092,  1.19633455],\n",
       "       [ 0.97845411,  1.52773142,  1.09074995,  6.482641  ,  1.16249197],\n",
       "       [ 0.96210827,  1.50716638,  1.05606077,  6.50733232,  1.13332033],\n",
       "       [ 0.9479642 ,  1.48827396,  1.02541348,  6.52987055,  1.1081915 ],\n",
       "       [ 0.93573023,  1.47129819,  0.99831371,  6.55288942,  1.08641483],\n",
       "       [ 0.925153  ,  1.45583919,  0.9743038 ,  6.57574271,  1.0678165 ],\n",
       "       [ 0.91582155,  1.44157249,  0.9530552 ,  6.59826204,  1.05184001],\n",
       "       [ 0.90794495,  1.42872512,  0.93421447,  6.62031283,  1.03812942],\n",
       "       [ 0.90114542,  1.416992  ,  0.91749193,  6.63845145,  1.02637716],\n",
       "       [ 0.89527978,  1.40659483,  0.90263434,  6.64502862,  1.01631652],\n",
       "       [ 0.89022319,  1.39887263,  0.88977545,  6.65150353,  1.00771633],\n",
       "       [ 0.88586723,  1.39188794,  0.8794399 ,  6.65891376,  1.00022948],\n",
       "       [ 0.88211781,  1.38558955,  0.87034112,  6.66599187,  0.99397701],\n",
       "       [ 0.87889328,  1.3799043 ,  0.86375165,  6.67316371,  0.98826854],\n",
       "       [ 0.87612283,  1.37462343,  0.85833509,  6.68147586,  0.98413679],\n",
       "       [ 0.87364185,  1.36998311,  0.85378075,  6.68975908,  0.98148004],\n",
       "       [ 0.87161005,  1.36578063,  0.84991036,  6.69801858,  0.97996065],\n",
       "       [ 0.86951   ,  1.36182459,  0.84672971,  6.70618934,  0.97923266],\n",
       "       [ 0.86557029,  1.35837156,  0.84403049,  6.71459701,  0.97940535],\n",
       "       [ 0.86207816,  1.35523513,  0.84185518,  6.72242968,  0.98003642],\n",
       "       [ 0.85895935,  1.35223856,  0.84001031,  6.73002263,  0.98132195],\n",
       "       [ 0.85615619,  1.34964375,  0.83849324,  6.73737412,  0.98300559],\n",
       "       [ 0.8536502 ,  1.34713658,  0.83733346,  6.74446236,  0.98481043],\n",
       "       [ 0.85138849,  1.34498163,  0.836421  ,  6.75127499,  0.98701756],\n",
       "       [ 0.84936864,  1.34273502,  0.83571195,  6.75804814,  0.98900453],\n",
       "       [ 0.84753426,  1.34105687,  0.83510397,  6.76417439,  0.99091945],\n",
       "       [ 0.84588064,  1.33931469,  0.83470373,  6.76980889,  0.99310949],\n",
       "       [ 0.84440837,  1.33780199,  0.83443326,  6.77517167,  0.99536752],\n",
       "       [ 0.84305593,  1.33646648,  0.83426257,  6.78026403,  0.99764352],\n",
       "       [ 0.84183306,  1.3365741 ,  0.83417416,  6.78530913,  0.99970008],\n",
       "       [ 0.84072521,  1.33664158,  0.83408837,  6.7899153 ,  1.00192358],\n",
       "       [ 0.83974716,  1.33709058,  0.83411308,  6.79421424,  1.00413709],\n",
       "       [ 0.83883052,  1.33764656,  0.83419487,  6.79827873,  1.00556067],\n",
       "       [ 0.83799864,  1.33818644,  0.83431246,  6.80211396,  1.00695212],\n",
       "       [ 0.83724175,  1.33870603,  0.834393  ,  6.80583319,  1.00844872],\n",
       "       [ 0.83655213,  1.33917727,  0.8345453 ,  6.80931584,  1.00994333],\n",
       "       [ 0.83595469,  1.33962876,  0.83472937,  6.81250754,  1.01139027],\n",
       "       [ 0.83537597,  1.3400837 ,  0.83492624,  6.81550893,  1.01260979],\n",
       "       [ 0.83484817,  1.34052089,  0.83506426,  6.8183335 ,  1.01405424],\n",
       "       [ 0.8343659 ,  1.34093677,  0.83525395,  6.8211034 ,  1.01522305],\n",
       "       [ 0.83392433,  1.34132767,  0.8354638 ,  6.82359995,  1.01639185]])"
      ]
     },
     "execution_count": 32,
     "metadata": {},
     "output_type": "execute_result"
    }
   ],
   "source": [
    "lassocv.mse_path_"
   ]
  },
  {
   "cell_type": "markdown",
   "metadata": {},
   "source": [
    "## Lasso Regression"
   ]
  },
  {
   "cell_type": "code",
   "execution_count": 33,
   "metadata": {},
   "outputs": [
    {
     "name": "stdout",
     "output_type": "stream",
     "text": [
      "Mean Absolute Error:  1.1914563426451288\n",
      "R2 Score:  0.9507719280238188\n"
     ]
    },
    {
     "data": {
      "text/plain": [
       "<matplotlib.collections.PathCollection at 0x1984ef6b830>"
      ]
     },
     "execution_count": 33,
     "metadata": {},
     "output_type": "execute_result"
    },
    {
     "data": {
      "image/png": "[encoded data removed]",
      "text/plain": [
       "<Figure size 640x480 with 1 Axes>"
      ]
     },
     "metadata": {},
     "output_type": "display_data"
    }
   ],
   "source": [
    "from sklearn.linear_model import Lasso\n",
    "from sklearn.metrics import mean_absolute_error, r2_score\n",
    "lasso = Lasso()\n",
    "lasso.fit(X_train_scaled, y_train)\n",
    "y_pred = lasso.predict(X_test_scaled)\n",
    "mae = mean_absolute_error(y_test, y_pred)\n",
    "score = r2_score(y_test, y_pred)\n",
    "print(\"Mean Absolute Error: \", mae)\n",
    "print(\"R2 Score: \", score)\n",
    "plt.scatter(y_test, y_pred)"
   ]
  },
  {
   "cell_type": "code",
   "execution_count": 34,
   "metadata": {},
   "outputs": [
    {
     "name": "stdout",
     "output_type": "stream",
     "text": [
      "Mean Absolute Error:  0.6329143779561437\n",
      "R2 Score:  0.983692581331822\n"
     ]
    }
   ],
   "source": [
    "from sklearn.linear_model import RidgeCV\n",
    "ridgecv = RidgeCV(cv=5)\n",
    "ridgecv.fit(X_train_scaled,y_train)\n",
    "y_pred = ridgecv.predict(X_test_scaled)\n",
    "mae = mean_absolute_error(y_test, y_pred)\n",
    "score = r2_score(y_test, y_pred)\n",
    "print(\"Mean Absolute Error: \", mae)\n",
    "print(\"R2 Score: \", score)"
   ]
  },
  {
   "cell_type": "code",
   "execution_count": 35,
   "metadata": {},
   "outputs": [
    {
     "data": {
      "text/plain": [
       "{'alpha_per_target': False,\n",
       " 'alphas': (0.1, 1.0, 10.0),\n",
       " 'cv': 5,\n",
       " 'fit_intercept': True,\n",
       " 'gcv_mode': None,\n",
       " 'scoring': None,\n",
       " 'store_cv_results': None,\n",
       " 'store_cv_values': 'deprecated'}"
      ]
     },
     "execution_count": 35,
     "metadata": {},
     "output_type": "execute_result"
    }
   ],
   "source": [
    "ridgecv.get_params()"
   ]
  },
  {
   "cell_type": "markdown",
   "metadata": {},
   "source": [
    "## Ridge Regression"
   ]
  },
  {
   "cell_type": "code",
   "execution_count": 36,
   "metadata": {},
   "outputs": [
    {
     "name": "stdout",
     "output_type": "stream",
     "text": [
      "Mean Absolute Error:  0.6329143779561437\n",
      "R2 Score:  0.983692581331822\n"
     ]
    },
    {
     "data": {
      "text/plain": [
       "<matplotlib.collections.PathCollection at 0x1984f4b3950>"
      ]
     },
     "execution_count": 36,
     "metadata": {},
     "output_type": "execute_result"
    },
    {
     "data": {
      "image/png": "[encoded data removed]",
      "text/plain": [
       "<Figure size 640x480 with 1 Axes>"
      ]
     },
     "metadata": {},
     "output_type": "display_data"
    }
   ],
   "source": [
    "from sklearn.linear_model import Ridge\n",
    "from sklearn.metrics import mean_absolute_error, r2_score\n",
    "ridge = Ridge()\n",
    "ridge.fit(X_train_scaled, y_train)\n",
    "y_pred = ridge.predict(X_test_scaled)\n",
    "mae = mean_absolute_error(y_test, y_pred)\n",
    "score = r2_score(y_test, y_pred)\n",
    "print(\"Mean Absolute Error: \", mae)\n",
    "print(\"R2 Score: \", score)\n",
    "plt.scatter(y_test, y_pred)"
   ]
  },
  {
   "cell_type": "code",
   "execution_count": 37,
   "metadata": {},
   "outputs": [
    {
     "name": "stdout",
     "output_type": "stream",
     "text": [
      "Mean Absolute Error:  0.6609066409966181\n",
      "R2 Score:  0.9828892867661194\n"
     ]
    }
   ],
   "source": [
    "from sklearn.linear_model import ElasticNetCV\n",
    "elasticcv = ElasticNetCV(cv=5)\n",
    "elasticcv.fit(X_train_scaled,y_train)\n",
    "y_pred = elasticcv.predict(X_test_scaled)\n",
    "mae = mean_absolute_error(y_test, y_pred)\n",
    "score = r2_score(y_test, y_pred)\n",
    "print(\"Mean Absolute Error: \", mae)\n",
    "print(\"R2 Score: \", score)"
   ]
  },
  {
   "cell_type": "code",
   "execution_count": 38,
   "metadata": {},
   "outputs": [
    {
     "data": {
      "text/plain": [
       "{'alphas': None,\n",
       " 'copy_X': True,\n",
       " 'cv': 5,\n",
       " 'eps': 0.001,\n",
       " 'fit_intercept': True,\n",
       " 'l1_ratio': 0.5,\n",
       " 'max_iter': 1000,\n",
       " 'n_alphas': 100,\n",
       " 'n_jobs': None,\n",
       " 'positive': False,\n",
       " 'precompute': 'auto',\n",
       " 'random_state': None,\n",
       " 'selection': 'cyclic',\n",
       " 'tol': 0.0001,\n",
       " 'verbose': 0}"
      ]
     },
     "execution_count": 38,
     "metadata": {},
     "output_type": "execute_result"
    }
   ],
   "source": [
    "elasticcv.get_params()"
   ]
  },
  {
   "cell_type": "markdown",
   "metadata": {
    "vscode": {
     "languageId": "bat"
    }
   },
   "source": [
    "## ElasticNet"
   ]
  },
  {
   "cell_type": "code",
   "execution_count": 39,
   "metadata": {},
   "outputs": [
    {
     "name": "stdout",
     "output_type": "stream",
     "text": [
      "Mean Absolute Error:  1.8874633328409456\n",
      "R2 Score:  0.8803445600259008\n"
     ]
    },
    {
     "data": {
      "text/plain": [
       "<matplotlib.collections.PathCollection at 0x1984f570050>"
      ]
     },
     "execution_count": 39,
     "metadata": {},
     "output_type": "execute_result"
    },
    {
     "data": {
      "image/png": "[encoded data removed]",
      "text/plain": [
       "<Figure size 640x480 with 1 Axes>"
      ]
     },
     "metadata": {},
     "output_type": "display_data"
    }
   ],
   "source": [
    "from sklearn.linear_model import ElasticNet\n",
    "from sklearn.metrics import mean_absolute_error, r2_score\n",
    "elastic = ElasticNet()\n",
    "elastic.fit(X_train_scaled, y_train)\n",
    "y_pred = elastic.predict(X_test_scaled)\n",
    "mae = mean_absolute_error(y_test, y_pred)\n",
    "score = r2_score(y_test, y_pred)\n",
    "print(\"Mean Absolute Error: \", mae)\n",
    "print(\"R2 Score: \", score)\n",
    "plt.scatter(y_test, y_pred)"
   ]
  },
  {
   "cell_type": "markdown",
   "metadata": {},
   "source": [
    "## Pickel the model and preprocesssing model "
   ]
  },
  {
   "cell_type": "code",
   "execution_count": 40,
   "metadata": {},
   "outputs": [],
   "source": [
    "import pickle\n",
    "pickle.dump(scaler, open(\"scaler.pkl\", \"wb\"))\n",
    "pickle.dump(lassocv, open(\"lassoCV.pkl\", \"wb\"))"
   ]
  },
  {
   "cell_type": "code",
   "execution_count": null,
   "metadata": {},
   "outputs": [],
   "source": []
  }
 ],
 "metadata": {
  "kernelspec": {
   "display_name": "myenv",
   "language": "python",
   "name": "python3"
  },
  "language_info": {
   "codemirror_mode": {
    "name": "ipython",
    "version": 3
   },
   "file_extension": ".py",
   "mimetype": "text/x-python",
   "name": "python",
   "nbconvert_exporter": "python",
   "pygments_lexer": "ipython3",
   "version": "3.12.0"
  }
 },
 "nbformat": 4,
 "nbformat_minor": 2
}
